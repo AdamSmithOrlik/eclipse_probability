{
 "cells": [
  {
   "cell_type": "markdown",
   "metadata": {},
   "source": [
    "# Imports"
   ]
  },
  {
   "cell_type": "code",
   "execution_count": 1,
   "metadata": {},
   "outputs": [],
   "source": [
    "import numpy as np\n",
    "import matplotlib.pyplot as plt\n",
    "from matplotlib.ticker import ScalarFormatter\n",
    "from matplotlib.patches import Circle, FancyBboxPatch\n",
    "from ipywidgets import Layout, interact, FloatSlider\n",
    "from IPython.display import clear_output\n",
    "import imageio\n",
    "import glob\n",
    "import os"
   ]
  },
  {
   "cell_type": "markdown",
   "metadata": {},
   "source": [
    "# Theory"
   ]
  },
  {
   "cell_type": "markdown",
   "metadata": {},
   "source": [
    "I want to determine the probability of the Moon being just the right size and distance from Earth to allow for total solar eclipses. I just want a rough calculation, so I am going to make a number of simplifying assumption along the way. \n",
    "\n",
    "Coincidentally, the Sun just so happens to be 400 times further from the Earth and 400 times larger in diameter than the Moon, leading to their apparent sizes in the sky being roughly the same, which allows for the possibility of total Solar eclipses, where the Moon perfectly covers the Sun as seen from Earth. However, I wonder how great of a coincidence this really is. The size of the Moon itself must have an upper and lower limit. If it is two large it would be considered a planet in a two-body planet system. Conversely, if it is too small it would be considered a Moon at all, rather a satelite. Moreover, there is also an upper and lower limit to the distance that the Moon is able to stably orbit the Earth. This leads to a range of alternative possibilities for the Moons size and distance from Earth, and therefore a range of possible Moons that may not lead to total Solar eclipses. The purpose of this notebook is to investigate the likelihood, under simplifying assumptions, that a Moon randomly drawn from the set of astrophysically possible Moons will be one that leads to total solar eclipses. \n",
    "\n",
    "Here is the framework for approaching the problem:\n",
    "1. Define the limits on the radius \n",
    "2. Define the limits on the size of the moon \n",
    "3. Determine the combinations of size and distance that lead to a total eclipse \n",
    "4. Determine the probability of choosing these configurations from a random sample\n",
    "\n",
    "The key assumptions I will be making:\n",
    "1. The Moon follows a circular orbit \n",
    "2. The Moons has the same density no matter its mass or radius\n",
    "3. All distance and radius configurations are equally possible"
   ]
  },
  {
   "cell_type": "markdown",
   "metadata": {},
   "source": [
    "# Constants and apparent size"
   ]
  },
  {
   "cell_type": "code",
   "execution_count": 28,
   "metadata": {},
   "outputs": [],
   "source": [
    "r_earth = 6371.0 # km\n",
    "m_earth = 5.972e24 # kg\n",
    "\n",
    "r_moon = 1737.1 # km\n",
    "m_moon = 7.34767309e22 # kg\n",
    "\n",
    "r_sun = 696340.0 # km\n",
    "m_sun = 1.989e30 # kg\n",
    "\n",
    "d_earth_moon = 3633000.0 # perigree, distance for totality in km\n",
    "d_earth_sun = 149.6e6 # km\n",
    "\n",
    "density_moon = m_moon / (4/3 * np.pi * r_moon**3) # kg/km^3\n",
    "density_earth = m_earth / (4/3 * np.pi * r_earth**3) # kg/km^3\n",
    "\n",
    "hill_ratio = 1/2"
   ]
  },
  {
   "cell_type": "code",
   "execution_count": 3,
   "metadata": {},
   "outputs": [],
   "source": [
    "def apparent_size(r, d):\n",
    "    '''\n",
    "    args: \n",
    "        r: radius of object (km)\n",
    "        d: distance to object (km)\n",
    "    returns:\n",
    "        apparent size of object (degrees)\n",
    "    '''\n",
    "    return 2 * np.arctan(r / d) * (180 / np.pi) # degrees"
   ]
  },
  {
   "cell_type": "code",
   "execution_count": 29,
   "metadata": {},
   "outputs": [
    {
     "data": {
      "text/plain": [
       "0.05479135205469885"
      ]
     },
     "execution_count": 29,
     "metadata": {},
     "output_type": "execute_result"
    }
   ],
   "source": [
    "apparent_size(r_moon, d_earth_moon) "
   ]
  },
  {
   "cell_type": "code",
   "execution_count": 25,
   "metadata": {},
   "outputs": [
    {
     "name": "stdout",
     "output_type": "stream",
     "text": [
      "Apparent size of the Moon from Earth:  0.5479093868482878\n",
      "Apparent size of the Sun from Earth:  0.5333830878445046\n"
     ]
    }
   ],
   "source": [
    "print(\"Apparent size of the Moon from Earth: \", apparent_size(r_moon, d_earth_moon))\n",
    "print(\"Apparent size of the Sun from Earth: \", apparent_size(r_sun, d_earth_sun))"
   ]
  },
  {
   "cell_type": "code",
   "execution_count": 5,
   "metadata": {},
   "outputs": [
    {
     "name": "stdout",
     "output_type": "stream",
     "text": [
      "Totality tolerance:  0.014526299003783216\n",
      "Totality tolerance in arc minutes:  0.871577940226993\n"
     ]
    }
   ],
   "source": [
    "totality_tolerance = np.abs(apparent_size(r_moon, d_earth_moon) - apparent_size(r_sun, d_earth_sun)) \n",
    "print(\"Totality tolerance: \", totality_tolerance)\n",
    "print(\"Totality tolerance in arc minutes: \", totality_tolerance * 60)"
   ]
  },
  {
   "cell_type": "markdown",
   "metadata": {},
   "source": [
    "From this it appears that totality can be defined as having an apparent size that is less than about 2 arc minutes."
   ]
  },
  {
   "cell_type": "markdown",
   "metadata": {},
   "source": [
    "# Limits of the mass of a moon"
   ]
  },
  {
   "cell_type": "markdown",
   "metadata": {},
   "source": [
    "For this we will assume the Earth's Moon can range within the typical sizes of moons found in the solar system. For the lower limit we will take the smallest moon or Mars, Deimos, as the smallest moon-planet ratio. For the upper limit, we can assume that the moon must have a radius less than half the planet, so as not to be considered a binary planet system. "
   ]
  },
  {
   "cell_type": "code",
   "execution_count": 22,
   "metadata": {},
   "outputs": [
    {
     "data": {
      "text/plain": [
       "2.3004160757974783e-07"
      ]
     },
     "execution_count": 22,
     "metadata": {},
     "output_type": "execute_result"
    }
   ],
   "source": [
    "# mass ratio for Deimos to Mars\n",
    "m_deimos = 1.4762e15 # kg\n",
    "m_mars = 6.4171e23 # kg\n",
    "\n",
    "m_deimos / m_mars * 100"
   ]
  },
  {
   "cell_type": "code",
   "execution_count": 7,
   "metadata": {},
   "outputs": [
    {
     "data": {
      "text/plain": [
       "7.587319874808962"
      ]
     },
     "execution_count": 7,
     "metadata": {},
     "output_type": "execute_result"
    }
   ],
   "source": [
    "# mass ratio for a moon that is half the radius of the Earth with comparable density to the moon\n",
    "r_half_earth = r_earth / 2\n",
    "m_half_earth = 4/3 * np.pi * r_half_earth**3 *  density_moon# kg\n",
    "\n",
    "m_half_earth / m_earth * 100"
   ]
  },
  {
   "cell_type": "code",
   "execution_count": 8,
   "metadata": {},
   "outputs": [
    {
     "name": "stdout",
     "output_type": "stream",
     "text": [
      "Lower limit of mass ratio:  2.3004160757974783e-07\n",
      "Upper limit of mass ratio:  7.587319874808962\n"
     ]
    }
   ],
   "source": [
    "# lower and upper limit of the mass ratios of a moon to a planet\n",
    "\n",
    "m_ratio_lower = m_deimos / m_mars # in percentage\n",
    "m_ratio_upper = m_half_earth / m_earth # in percentage\n",
    "\n",
    "print(\"Lower limit of mass ratio: \", m_ratio_lower*100)\n",
    "print(\"Upper limit of mass ratio: \", m_ratio_upper*100)"
   ]
  },
  {
   "cell_type": "code",
   "execution_count": 20,
   "metadata": {},
   "outputs": [
    {
     "data": {
      "text/plain": [
       "0.03793660052425285"
      ]
     },
     "execution_count": 20,
     "metadata": {},
     "output_type": "execute_result"
    }
   ],
   "source": [
    "(m_ratio_lower+m_ratio_upper)/2"
   ]
  },
  {
   "cell_type": "markdown",
   "metadata": {},
   "source": [
    "Therefore, the lower and upper limit for the mass ratio of a moon to its host planet is $2.3\\times 10^{-7}\\%$ and $\\sim 8\\%$ respectively. "
   ]
  },
  {
   "cell_type": "markdown",
   "metadata": {},
   "source": [
    "# Limits on distance"
   ]
  },
  {
   "cell_type": "markdown",
   "metadata": {},
   "source": [
    "The Roche limit depends on the density of the Earth and the Moon. We will assume that the density of the moon is constant to simplify the calculations. "
   ]
  },
  {
   "cell_type": "code",
   "execution_count": 9,
   "metadata": {},
   "outputs": [
    {
     "name": "stdout",
     "output_type": "stream",
     "text": [
      "Roche limit for the Earth-Moon system:  9480.359580360415 km\n"
     ]
    }
   ],
   "source": [
    "roche_limit = r_earth * (2*density_earth/density_moon)**(1/3) # km\n",
    "print(\"Roche limit for the Earth-Moon system: \", roche_limit, \"km\")"
   ]
  },
  {
   "cell_type": "markdown",
   "metadata": {},
   "source": [
    "The Hill radius depends on the mass of the Earth and Moon. However, since the Earth is much larger than the Moon, we can take a single value for the Hill radius, from the mass of Moon. \n",
    "\n",
    "$$R_{Roche} = R_{Earth}\\cdot \\left(2 \\frac{\\rho_{Earth}}{\\rho_{Moon}}\\right)^{1/3} \\quad \\text{and,} \\quad R_{Hill} = D_{Earth-Sun} \\left(\\frac{M_{Earth}}{3M_{Sun}}\\right)^{1/3}$$"
   ]
  },
  {
   "cell_type": "code",
   "execution_count": 10,
   "metadata": {},
   "outputs": [
    {
     "name": "stdout",
     "output_type": "stream",
     "text": [
      "Hill limit for the Earth-Sun system:  748208.8685465425 km\n"
     ]
    }
   ],
   "source": [
    "# the maximum stable radius is taken as 50% of the Hill radius \n",
    "hill_limit = hill_ratio * d_earth_sun * (m_earth / (3*m_sun))**(1/3) # km\n",
    "print(\"Hill limit for the Earth-Sun system: \", hill_limit, \"km\")"
   ]
  },
  {
   "cell_type": "code",
   "execution_count": 11,
   "metadata": {},
   "outputs": [
    {
     "name": "stdout",
     "output_type": "stream",
     "text": [
      "Minimum distance for the Earth-Moon system:  9480.359580360415\n",
      "Maximum distance for the Earth-Moon system:  748208.8685465425\n",
      "Distance range:  738728.508966182\n"
     ]
    }
   ],
   "source": [
    "# the minimum and maximum distances for the Earth-Moon system\n",
    "\n",
    "print(\"Minimum distance for the Earth-Moon system: \", roche_limit)\n",
    "print(\"Maximum distance for the Earth-Moon system: \", hill_limit)\n",
    "print(\"Distance range: \", hill_limit - roche_limit)"
   ]
  },
  {
   "cell_type": "code",
   "execution_count": 19,
   "metadata": {},
   "outputs": [
    {
     "data": {
      "text/plain": [
       "378844.6140634515"
      ]
     },
     "execution_count": 19,
     "metadata": {},
     "output_type": "execute_result"
    }
   ],
   "source": [
    "(roche_limit+hill_limit)/2"
   ]
  },
  {
   "cell_type": "markdown",
   "metadata": {},
   "source": [
    "# Sizes and distances and their apparent sizes"
   ]
  },
  {
   "cell_type": "code",
   "execution_count": 12,
   "metadata": {},
   "outputs": [],
   "source": [
    "# make a grid in distance and radius ratio \n",
    "distance = np.linspace(roche_limit, hill_limit, num=10000)\n",
    "mass_ratio = np.linspace(m_ratio_lower, m_ratio_upper, num=10000)\n",
    "\n",
    "radii =  (3*(mass_ratio*m_earth) / (4 * np.pi * density_moon))**(1/3)\n",
    "\n",
    "\n",
    "D, R = np.meshgrid(distance, radii)\n",
    "\n",
    "apparent_sizes = apparent_size(R, D) "
   ]
  },
  {
   "cell_type": "code",
   "execution_count": 13,
   "metadata": {},
   "outputs": [],
   "source": [
    "apparent_sun_size = apparent_size(r_sun, d_earth_sun)\n",
    "apparent_sun_size_lower = apparent_sun_size - totality_tolerance\n",
    "apparent_sun_size_upper = apparent_sun_size + totality_tolerance\n"
   ]
  },
  {
   "cell_type": "code",
   "execution_count": 30,
   "metadata": {},
   "outputs": [
    {
     "name": "stdout",
     "output_type": "stream",
     "text": [
      "0.5188567888407214 0.5479093868482878\n"
     ]
    }
   ],
   "source": [
    "print(apparent_sun_size_lower, apparent_sun_size_upper)"
   ]
  },
  {
   "cell_type": "code",
   "execution_count": 15,
   "metadata": {},
   "outputs": [
    {
     "data": {
      "image/png": "[encoded data removed]",
      "text/plain": [
       "<Figure size 640x480 with 2 Axes>"
      ]
     },
     "metadata": {},
     "output_type": "display_data"
    }
   ],
   "source": [
    "# contour plot for the distances and radii, colored by the apparent size of the moon\n",
    "\n",
    "c = plt.contourf(D, R, np.log10(apparent_sizes), levels=50, cmap='viridis')\n",
    "cbar = plt.colorbar(c)\n",
    "cbar.set_label(r'$\\log$(Apparent size of Moon)')\n",
    "plt.xlabel('Distance [km]')\n",
    "plt.ylabel('Radius of Moon [km]')\n",
    "plt.title(\"Apparent size of Moon for all possible configurations\")\n",
    "# plt.xscale('log')\n",
    "# plt.yscale('log')  \n",
    "# draw a constant contour line at the apparent size of the sun\n",
    "plt.contour(D, R, np.log10(apparent_sizes), levels=[np.log10(apparent_sun_size)], colors='black', linewidths=0.5)\n",
    "line = plt.plot([], [], 'k--', label=r'$\\log\\theta_{A,Sun}$:' + f'{np.log10(apparent_sun_size):.2f}$\\degree$')\n",
    "levels_for_filled_band = [np.log10(apparent_sun_size_lower), np.log10(apparent_sun_size_upper)]\n",
    "plt.contourf(D, R, np.log10(apparent_sizes), levels=levels_for_filled_band, colors='gray', alpha=0.8)\n",
    "\n",
    "ax = plt.gca()  # Get the current axis\n",
    "ax.xaxis.set_major_formatter(ScalarFormatter(useMathText=True))  # Use mathematical text for scientific notation\n",
    "ax.ticklabel_format(style='sci', axis='x', scilimits=(0,0))  \n",
    "plt.legend(loc='upper left', fontsize='medium')\n",
    "# plt.savefig('apparent_size_log.png')\n",
    "plt.show()"
   ]
  },
  {
   "cell_type": "code",
   "execution_count": 14,
   "metadata": {},
   "outputs": [
    {
     "data": {
      "text/plain": [
       "3.7868619999999997"
      ]
     },
     "execution_count": 14,
     "metadata": {},
     "output_type": "execute_result"
    }
   ],
   "source": [
    "eclipses = np.abs(apparent_sizes - apparent_sun_size) <= totality_tolerance\n",
    "np.sum(eclipses) /apparent_sizes.size * 100\n"
   ]
  },
  {
   "cell_type": "markdown",
   "metadata": {},
   "source": [
    "# Monte-Carlo Simulation for the probability of a Moon that has a total eclipse"
   ]
  },
  {
   "cell_type": "code",
   "execution_count": 15,
   "metadata": {},
   "outputs": [
    {
     "name": "stdout",
     "output_type": "stream",
     "text": [
      "Estimated Probability: 3.1\n"
     ]
    }
   ],
   "source": [
    "# Monte Carlo Simulation for Estimating Probability\n",
    "def mcmc_sampler(num_samples=1000):\n",
    "    count = 0\n",
    "\n",
    "    for _ in range(num_samples):\n",
    "        # Randomly select a sample\n",
    "        d_sample = np.random.choice(distance)\n",
    "        r_sample = np.random.choice(radii)\n",
    "        sample_apparent_size = apparent_size(r_sample, d_sample)\n",
    "        \n",
    "        # Check if the sample falls within the eclipse zone\n",
    "        if np.abs(sample_apparent_size - apparent_sun_size) <= totality_tolerance:\n",
    "            count += 1\n",
    "            \n",
    "    # Calculate probability\n",
    "    probability = count / num_samples * 100\n",
    "    return probability\n",
    "\n",
    "# Estimate the probability\n",
    "probability = mcmc_sampler()\n",
    "print(f\"Estimated Probability: {probability}\")"
   ]
  },
  {
   "cell_type": "code",
   "execution_count": 16,
   "metadata": {},
   "outputs": [],
   "source": [
    "# %matplotlib widget\n",
    "\n",
    "# def update_plot(moon_distance=d_earth_moon, moon_radius=r_moon):\n",
    "#     fig, ax = plt.subplots(figsize=(5, 5))\n",
    "    \n",
    "#     # Sun\n",
    "#     sun_size = apparent_size(r_sun, d_earth_sun)\n",
    "#     sun = Circle((0.5, 0.5), sun_size / 5, color='yellow', label=f'Sun: {sun_size:.2f}°')\n",
    "    \n",
    "#     # Moon\n",
    "#     moon_size = apparent_size(moon_radius, moon_distance)\n",
    "#     moon = Circle((0.5, 0.5), moon_size / 5, color='grey', alpha=0.8, label=f'Moon: {moon_size:.2f}°')\n",
    "    \n",
    "#     ax.add_artist(sun)\n",
    "#     ax.add_artist(moon)\n",
    "#     ax.set_xlim(0, 1)\n",
    "#     ax.set_ylim(0, 1)\n",
    "#     ax.axis('off')\n",
    "#     plt.legend(loc='upper left')\n",
    "#     plt.show()\n",
    "\n",
    "# # Define your sliders with a custom layout for increased width\n",
    "# moon_distance_slider = FloatSlider(\n",
    "#     min=roche_limit, \n",
    "#     max=hill_limit, \n",
    "#     step=1000, \n",
    "#     value=d_earth_moon, \n",
    "#     description='Moon Distance (km):',\n",
    "#     layout=Layout(width='500px', description_width='initial')  # Adjust the width as needed\n",
    "# )\n",
    "\n",
    "# moon_radius_slider = FloatSlider(\n",
    "#     min=radii.min(), \n",
    "#     max=radii.max(), \n",
    "#     step=10, \n",
    "#     value=r_moon, \n",
    "#     description='Moon Radius (km):',\n",
    "#     layout=Layout(width='500px', description_width='initial') # Adjust the width as needed\n",
    "# )\n",
    "# interact(update_plot, \n",
    "#          moon_distance=moon_distance_slider,\n",
    "#          moon_radius=moon_radius_slider)"
   ]
  },
  {
   "cell_type": "code",
   "execution_count": 87,
   "metadata": {},
   "outputs": [
    {
     "data": {
      "text/plain": [
       "array([[0.96968568, 0.45754118],\n",
       "       [0.20981558, 0.15863859],\n",
       "       [0.42159425, 0.24912912],\n",
       "       [0.28162798, 0.69026077],\n",
       "       [0.26832243, 0.36396356],\n",
       "       [0.58691506, 0.26737366],\n",
       "       [0.43362286, 0.68921255],\n",
       "       [0.72900691, 0.55634368],\n",
       "       [0.4992751 , 0.91883486],\n",
       "       [0.17958179, 0.44577304],\n",
       "       [0.57911366, 0.5691578 ],\n",
       "       [0.32460152, 0.76787569],\n",
       "       [0.60792381, 0.38187003],\n",
       "       [0.095454  , 0.65973249],\n",
       "       [0.57195441, 0.11896389],\n",
       "       [0.83208091, 0.45108541],\n",
       "       [0.68844181, 0.81136631],\n",
       "       [0.1868823 , 0.26028106],\n",
       "       [0.44468552, 0.1269026 ],\n",
       "       [0.90785868, 0.82949837],\n",
       "       [0.75525759, 0.83659826],\n",
       "       [0.95200998, 0.92308216],\n",
       "       [0.14732351, 0.19107547],\n",
       "       [0.49374771, 0.23805763],\n",
       "       [0.02168911, 0.7013212 ],\n",
       "       [0.04723757, 0.17981478],\n",
       "       [0.09217263, 0.09521672],\n",
       "       [0.08269457, 0.85033955],\n",
       "       [0.04182681, 0.61486653],\n",
       "       [0.02418961, 0.3058893 ],\n",
       "       [0.12832618, 0.72274612],\n",
       "       [0.40731796, 0.11896051],\n",
       "       [0.91614541, 0.52520442],\n",
       "       [0.7110078 , 0.78884349],\n",
       "       [0.3942815 , 0.08404441],\n",
       "       [0.2966657 , 0.71036203],\n",
       "       [0.41063005, 0.23882983],\n",
       "       [0.79242692, 0.89334336],\n",
       "       [0.57201122, 0.14744432],\n",
       "       [0.96658978, 0.19734754],\n",
       "       [0.37030291, 0.32278146],\n",
       "       [0.9019244 , 0.41684148],\n",
       "       [0.40966879, 0.75406214],\n",
       "       [0.51115088, 0.76202937],\n",
       "       [0.1750575 , 0.78874769],\n",
       "       [0.8628987 , 0.87303044],\n",
       "       [0.89587469, 0.85373403],\n",
       "       [0.95890623, 0.30796847],\n",
       "       [0.24159325, 0.34468247],\n",
       "       [0.37301447, 0.27702726],\n",
       "       [0.06181822, 0.28909766],\n",
       "       [0.65068093, 0.03837873],\n",
       "       [0.51034072, 0.67625923],\n",
       "       [0.10730363, 0.32573414],\n",
       "       [0.25458104, 0.42245046],\n",
       "       [0.83360434, 0.22953706],\n",
       "       [0.54499997, 0.01145518],\n",
       "       [0.51779841, 0.94007208],\n",
       "       [0.24423725, 0.52622304],\n",
       "       [0.58461671, 0.41215197]])"
      ]
     },
     "execution_count": 87,
     "metadata": {},
     "output_type": "execute_result"
    }
   ],
   "source": [
    "# [x,y] array of random positions between 0 and 1\n",
    "random_positions = np.random.rand(60, 2)\n",
    "random_positions"
   ]
  },
  {
   "cell_type": "code",
   "execution_count": 174,
   "metadata": {},
   "outputs": [],
   "source": [
    "def plot_apparent_size_with_legend(moon_distance, moon_radius):\n",
    "    moon_size = apparent_size(moon_radius, moon_distance)\n",
    "    sun_size = apparent_sun_size # Assuming this is a predefined constant\n",
    "\n",
    "    fig, ax = plt.subplots(figsize=(5, 5))\n",
    "    ax.set_xlim(0, 1)\n",
    "    ax.set_ylim(0, 1)\n",
    "    ax.axis('off')\n",
    "\n",
    "    fig.patch.set_facecolor('black')\n",
    "    ax.set_facecolor('black')\n",
    "\n",
    "    sun = Circle((0.5, 0.5), sun_size / 10, color='orange')\n",
    "    moon = Circle((0.5, 0.5), moon_size / 10, color='lightgrey', alpha=0.8, label=f'Sun Apparent Size: {sun_size:.2f}°\\nMoon Apparent Size: {moon_size:.2f}°\\nMoon Distance: {moon_distance:.0f} km\\nMoon Radius: {moon_radius:.0f} km')\n",
    "\n",
    "    for i,j in random_positions:\n",
    "        star = Circle((i, j), 0.001, color='white')\n",
    "        ax.add_artist(star)\n",
    "\n",
    "    ax.add_artist(sun)\n",
    "    ax.add_artist(moon)\n",
    "\n",
    "    # adding a distance meaure to the bottom of the plot\n",
    "    moon_distance_scaled = 0.97*(moon_distance / hill_limit)  \n",
    "    bracket_width = moon_distance_scaled  \n",
    "    bracket_height = 0.05  \n",
    "    bracket_position = (0.01, 0.01)  \n",
    "\n",
    "    bracket = FancyBboxPatch((bracket_position[0], bracket_position[1] - bracket_height / 2),\n",
    "                             bracket_width, bracket_height,\n",
    "                             boxstyle=\"square,pad=0\",\n",
    "                             edgecolor=\"white\", facecolor=\"none\", lw=2)\n",
    "    ax.add_patch(bracket)\n",
    "    \n",
    "    # distance bracket\n",
    "    ax.plot([bracket_position[0], bracket_position[0]], [bracket_position[1] - bracket_height, bracket_position[1] + bracket_height], color=\"white\", lw=2)\n",
    "    ax.plot([bracket_position[0] + bracket_width, bracket_position[0] + bracket_width], [bracket_position[1] - bracket_height, bracket_position[1] + bracket_height], color=\"white\", lw=2)\n",
    "\n",
    "    # add a legend to the plot with white text\n",
    "    legend = ax.legend(loc='upper left', fontsize='small', handlelength=0, handletextpad=0, fancybox=True)\n",
    "    frame = legend.get_frame()\n",
    "    frame.set_facecolor('black')  \n",
    "    frame.set_edgecolor('white')\n",
    "    for item in legend.legendHandles:\n",
    "        item.set_visible(False)  \n",
    "    plt.setp(legend.get_texts(), color='white') \n",
    "    # plt.show()\n"
   ]
  },
  {
   "cell_type": "code",
   "execution_count": 173,
   "metadata": {},
   "outputs": [
    {
     "name": "stderr",
     "output_type": "stream",
     "text": [
      "/var/folders/71/rd8s6g0x52sd1l6wnf9_z6_r0000gn/T/ipykernel_28247/3775517733.py:48: MatplotlibDeprecationWarning: The legendHandles attribute was deprecated in Matplotlib 3.7 and will be removed two minor releases later. Use legend_handles instead.\n",
      "  for item in legend.legendHandles:\n"
     ]
    },
    {
     "data": {
      "image/png": "[encoded data removed]",
      "text/plain": [
       "<Figure size 500x500 with 1 Axes>"
      ]
     },
     "metadata": {},
     "output_type": "display_data"
    }
   ],
   "source": [
    "plot_apparent_size_with_legend(moon_distance=hill_limit, moon_radius=1737.4)"
   ]
  },
  {
   "cell_type": "code",
   "execution_count": 128,
   "metadata": {},
   "outputs": [],
   "source": [
    "# used for sorting properly\n",
    "def int_to_char(i):\n",
    "    if 0 <= i <= 25:\n",
    "        return chr(97 + i)  \n",
    "    else:\n",
    "        return None"
   ]
  },
  {
   "cell_type": "code",
   "execution_count": 175,
   "metadata": {},
   "outputs": [
    {
     "name": "stderr",
     "output_type": "stream",
     "text": [
      "/var/folders/71/rd8s6g0x52sd1l6wnf9_z6_r0000gn/T/ipykernel_28247/2807822670.py:48: MatplotlibDeprecationWarning: The legendHandles attribute was deprecated in Matplotlib 3.7 and will be removed two minor releases later. Use legend_handles instead.\n",
      "  for item in legend.legendHandles:\n"
     ]
    }
   ],
   "source": [
    "def save_plot_images():\n",
    "    moon_distances = np.flip(np.linspace(roche_limit, hill_limit, 10))\n",
    "    moon_radii = np.linspace(radii.min(), radii.max(), 20)\n",
    "\n",
    "    for i, moon_distance in enumerate(moon_distances):\n",
    "        letter1 = int_to_char(i)\n",
    "        for j, moon_radius in enumerate(moon_radii):\n",
    "            letter2 = int_to_char(j)\n",
    "            plot_apparent_size_with_legend(moon_distance=moon_distance, moon_radius=moon_radius)\n",
    "            plt.savefig(f'plots/plot_{letter1}_{letter2}.png')  \n",
    "            plt.close()\n",
    "            clear_output(wait=True)  \n",
    "\n",
    "save_plot_images()"
   ]
  },
  {
   "cell_type": "markdown",
   "metadata": {},
   "source": [
    "# Create a GIF for this demo"
   ]
  },
  {
   "cell_type": "code",
   "execution_count": 176,
   "metadata": {},
   "outputs": [
    {
     "name": "stderr",
     "output_type": "stream",
     "text": [
      "/var/folders/71/rd8s6g0x52sd1l6wnf9_z6_r0000gn/T/ipykernel_28247/89553274.py:4: DeprecationWarning: Starting with ImageIO v3 the behavior of this function will switch to that of iio.v3.imread. To keep the current behavior (and make this warning disappear) use `import imageio.v2 as imageio` or call `imageio.v2.imread` directly.\n",
      "  images.append(imageio.imread(filename))\n"
     ]
    }
   ],
   "source": [
    "def create_gif(image_pattern, output_path='output.gif', duration=0.01):\n",
    "    images = []\n",
    "    for filename in sorted(glob.glob(image_pattern)):  \n",
    "        images.append(imageio.imread(filename))\n",
    "    imageio.mimsave(output_path, images, format='GIF', fps=20)\n",
    "\n",
    "# Use the function to create a GIF from the saved images\n",
    "create_gif('plots/plot_*.png', 'moon_sun_size.gif', duration=0.1)"
   ]
  }
 ],
 "metadata": {
  "kernelspec": {
   "display_name": "Python 3 (ipykernel)",
   "language": "python",
   "name": "python3"
  },
  "language_info": {
   "codemirror_mode": {
    "name": "ipython",
    "version": 3
   },
   "file_extension": ".py",
   "mimetype": "text/x-python",
   "name": "python",
   "nbconvert_exporter": "python",
   "pygments_lexer": "ipython3",
   "version": "3.11.5"
  }
 },
 "nbformat": 4,
 "nbformat_minor": 2
}
